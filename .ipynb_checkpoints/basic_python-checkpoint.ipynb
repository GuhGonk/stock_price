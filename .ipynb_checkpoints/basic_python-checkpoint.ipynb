{
 "cells": [
  {
   "cell_type": "markdown",
   "id": "e1d21dcc-7856-464c-a247-8f8ec9e8e50b",
   "metadata": {},
   "source": [
    "# Data Types"
   ]
  },
  {
   "cell_type": "code",
   "execution_count": 31,
   "id": "5461521f-5667-4ed2-8b54-29a683380c34",
   "metadata": {},
   "outputs": [
    {
     "name": "stdout",
     "output_type": "stream",
     "text": [
      "You can use single quotes\n",
      "You can use double quotes\n",
      "'You can also use both but be careful'\n",
      "\"Quoting dah quotes\"\n",
      "<class 'str'>\n",
      "\n",
      "4\n",
      "4\n",
      "<class 'int'>\n",
      "\n",
      "4.0\n",
      "4.0\n",
      "<class 'float'>\n",
      "\n",
      "\n",
      "(100+3j)\n",
      "<class 'complex'>\n",
      "\n",
      "\n",
      "You can combine stringswith a +\n",
      "You can also includevariables or numbers:4, but they need to be a string data type\n",
      "f-print is a useful way to print out words and numeric values or variables: 4000\n"
     ]
    }
   ],
   "source": [
    "###########\n",
    "# String #\n",
    "###########\n",
    "print('You can use single quotes')\n",
    "print(\"You can use double quotes\")\n",
    "print(\"'You can also use both but be careful'\")\n",
    "print('\"Quoting dah quotes\"')\n",
    "print(type('string'))\n",
    "print()\n",
    "\n",
    "############\n",
    "# Numueric #\n",
    "############\n",
    "\n",
    "## int - integer, only whole numbers\n",
    "print(int(4.0))\n",
    "print(4)\n",
    "print(type(4))\n",
    "print()\n",
    "\n",
    "## float - \"floating point (precision) numbers\" aka decimals, up to 15 decimal places\n",
    "print(float(4))\n",
    "print(4.0)\n",
    "print(type(4.0))\n",
    "print('\\n')\n",
    "\n",
    "## complex - can hold complex numbers\n",
    "print(complex(100+3j))\n",
    "print(type(100+3j))\n",
    "print(f'\\n')\n",
    "\n",
    "## long - deprecated in Python 3, but is prevalent in other languages, would hold long integers\n",
    "## In java: Stores whole numbers from -9,223,372,036,854,775,808 to 9,223,372,036,854,775,807 (8 bytes)\n",
    "## Python has automatic memory management so no need to worry about this unless you want to do high performance code\n",
    "\n",
    "###########\n",
    "# f-print #\n",
    "###########\n",
    "print('You can combine strings' + 'with a +')\n",
    "print('You can also include' + 'variables or numbers:' + str(4) + ', but they need to be a string data type')\n",
    "\n",
    "a = 4000\n",
    "print(f'f-print is a useful way to print out words and numeric values or variables: {a}')"
   ]
  },
  {
   "cell_type": "code",
   "execution_count": 96,
   "id": "14f564ac-e257-46eb-b331-fc0d248f4bbf",
   "metadata": {},
   "outputs": [
    {
     "name": "stdout",
     "output_type": "stream",
     "text": [
      "True\n",
      "False\n",
      "True\n",
      "True\n"
     ]
    }
   ],
   "source": [
    "############\n",
    "# Booleans #\n",
    "############\n",
    "\n",
    "# True/False\n",
    "\n",
    "x = 10\n",
    "print(x == 10)\n",
    "print(x == 9)\n",
    "\n",
    "print(True == 1)\n",
    "print(False == 0)"
   ]
  },
  {
   "cell_type": "code",
   "execution_count": 54,
   "id": "553df86c-5ccf-4cc6-ac47-a20de6ed7906",
   "metadata": {},
   "outputs": [
    {
     "name": "stdout",
     "output_type": "stream",
     "text": [
      "[1, 2, 3, 4, 5]\n",
      "<class 'list'>\n",
      "\n",
      "['one', 'two', 'three', 'four', 'five']\n",
      "<class 'list'>\n",
      "\n",
      "[1, 2.0, 'three', [4, 'four'], 5.0]\n",
      "<class 'list'>\n",
      "1\n",
      "three\n",
      "[4, 'four']\n",
      "5.0\n",
      "5.0\n",
      "4\n",
      "Data type for d[0]: (1, <class 'int'>)\n"
     ]
    }
   ],
   "source": [
    "################\n",
    "# Lists/Arrays #\n",
    "################\n",
    "\n",
    "# These are objects that act as containers, they can hold multiple objects\n",
    "# Comma separated\n",
    "# Can hold different data types\n",
    "\n",
    "b = [1,2,3,4,5]\n",
    "print(b)\n",
    "print(type(b))\n",
    "\n",
    "c = ['one', 'two', 'three', 'four', 'five']\n",
    "print(f'\\n{c}')\n",
    "print(type(c))\n",
    "\n",
    "d = [1, 2.0, 'three', [4, 'four'], 5.0]\n",
    "print(f'\\n{d}')\n",
    "print(type(d))\n",
    "\n",
    "\n",
    "# Slicing - accessing certain portions of the list\n",
    "print(d[0])\n",
    "print(d[2])\n",
    "print(d[3])\n",
    "print(d[4])\n",
    "print(d[-1])\n",
    "print(d[3][0])\n",
    "print(f'Data type for d[0]: {(d[0], type(d[0]))}')"
   ]
  },
  {
   "cell_type": "code",
   "execution_count": 92,
   "id": "ff73bccd-eca8-42cd-b69a-0a338515c57e",
   "metadata": {},
   "outputs": [
    {
     "name": "stdout",
     "output_type": "stream",
     "text": [
      "[1, 2, 3, 4, 5, 6, 7, 8, 9, 10]\n",
      "5 5 10\n",
      "\n",
      "[11, 12, 13, 14, 15]\n",
      "\n",
      "[16, 17, 18, [19, 20]]\n",
      "\n",
      "[1, 2, 3, 4, 5, 6, 7, 21]\n",
      "\n",
      "[1, 2, 3, 4, 5, 6, 7, 8, 9, 10]\n",
      "[1, 2, 3, 2100000000, 4, 5, 6, 7, 8, 9, 10]\n",
      "\n",
      "Before: [1, 2, 3, 2100000000, 4, 5, 6, 7, 8, 9, 10]\n",
      "After: [1, 2, 3, 4, 5, 6, 7, 8, 9, 10]\n",
      "\n",
      "Before: [1, 2, 3, 4, 5, 6, 7, 8, 9, 10]\n",
      "After: [1, 2, 3, 4, 5, 6, 7, 8, 9]\n",
      "\n",
      "['3rd', '2nd', 'first']\n"
     ]
    }
   ],
   "source": [
    "###################\n",
    "# List operations #\n",
    "###################\n",
    "\n",
    "b = [1,2,3,4,5]\n",
    "\n",
    "# + --> it combines 2 lists\n",
    "b2 = [6,7,8,9,10]\n",
    "print(b + b2)\n",
    "print(len(b), len(b2), len(b + b2))\n",
    "\n",
    "# .append() --> inserts the object into the end of the original array\n",
    "b3 = [11, 12, 13, 14]\n",
    "b3.append(15)\n",
    "print(f'\\n{b3}')\n",
    "\n",
    "b4 = [16, 17, 18]\n",
    "b41 = [19, 20]\n",
    "b4.append(b41)\n",
    "print(f'\\n{b4}')\n",
    "\n",
    "# Difference between + and .append()\n",
    "#  https://stackoverflow.com/questions/2022031/python-append-vs-operator-on-lists-why-do-these-give-different-results\n",
    "#  .append() results in a reference to self at the end of the specified array\n",
    "#  + operator concats the element\n",
    "\n",
    "# .extend() --> like the append, but can add multiple elements\n",
    "b5 = b.copy()\n",
    "b5.extend([6,7,21])\n",
    "print(f'\\n{b5}')\n",
    "\n",
    "# .insert() --> insert object into a specific position within the list\n",
    "b6 = b + b2\n",
    "print(f'\\n{b6}')\n",
    "b6.insert(3, 2100000000)\n",
    "print(b6)\n",
    "\n",
    "# .remove() --> removes the specific element from the list\n",
    "print(f'\\nBefore: {b6}')\n",
    "b6.remove(2100000000)\n",
    "print(f'After: {b6}')\n",
    "\n",
    "# .pop() --> removes the last element in the list\n",
    "print(f'\\nBefore: {b6}')\n",
    "b6.pop()\n",
    "print(f'After: {b6}')\n",
    "\n",
    "# .reverse() --> reverses da list\n",
    "b7 = ['first', '2nd', '3rd']\n",
    "b7.reverse()\n",
    "print(f'\\n{b7}')"
   ]
  },
  {
   "cell_type": "code",
   "execution_count": 62,
   "id": "4f9ba647-b87c-4bf5-bc02-2137efa5ffeb",
   "metadata": {},
   "outputs": [
    {
     "name": "stdout",
     "output_type": "stream",
     "text": [
      "(1, 2, 3, 4)\n",
      "<class 'tuple'>\n",
      "\n",
      "('one', 2, 'three', 4)\n",
      "<class 'tuple'>\n",
      "one\n"
     ]
    }
   ],
   "source": [
    "##########\n",
    "# Tuples #\n",
    "##########\n",
    "\n",
    "# Like a list, but different, not worse, just different\n",
    "# Can have multiple inputs\n",
    "# Can have multiple data types\n",
    "# But is immutable --> once you make it, you can't change it\n",
    "\n",
    "e = (1, 2, 3, 4)\n",
    "print(e)\n",
    "print(type(e))\n",
    "\n",
    "f = ('one', 2, 'three', 4)\n",
    "print(f'\\n{f}')\n",
    "print(type(f))\n",
    "print(f[0])"
   ]
  },
  {
   "cell_type": "code",
   "execution_count": 103,
   "id": "eae87d9a-46b8-4f3e-a97b-d25ca9bf4e1d",
   "metadata": {},
   "outputs": [
    {
     "name": "stdout",
     "output_type": "stream",
     "text": [
      "{'poopoo', 'big', 'pp'}\n",
      "{'poopoo', 'big', 1, 'pp'}\n",
      "{'poopoo', 'big', 1, 'pp'}\n"
     ]
    }
   ],
   "source": [
    "########\n",
    "# Sets #\n",
    "########\n",
    "\n",
    "# Unordered collection of data types that is iterable, mutable, and NO DUPLICATE ELEMENTS\n",
    "\n",
    "set1 = set(['big', 'pp', 'poopoo', 'big'])\n",
    "print(set1)\n",
    "set1.add(1)\n",
    "print(set1)\n",
    "set1.add('big')\n",
    "print(set1)"
   ]
  },
  {
   "cell_type": "code",
   "execution_count": 112,
   "id": "582f2537-f07b-42c7-a1a1-f975ab059d6e",
   "metadata": {},
   "outputs": [
    {
     "name": "stdout",
     "output_type": "stream",
     "text": [
      "{'one': 1, 'two': 2, 'three': 3, 'four': [4, 4.0]}\n",
      "1\n",
      "dict_values([1, 2, 3, [4, 4.0]])\n"
     ]
    }
   ],
   "source": [
    "################\n",
    "# Dictionaries #\n",
    "################\n",
    "\n",
    "# Hashmap, key-value pairs\n",
    "\n",
    "dict1 = {'one': 1, 'two': 2, 'three': 3, 'four': [4, 4.0]}\n",
    "print(dict1)\n",
    "print(dict1['one'])\n",
    "print(dict1.values())"
   ]
  },
  {
   "cell_type": "markdown",
   "id": "ff26579f-6d6b-4d35-8cd5-a16dbf55db62",
   "metadata": {},
   "source": [
    "# Loops"
   ]
  },
  {
   "cell_type": "code",
   "execution_count": 120,
   "id": "b0800eb6-6fc2-49a9-8c4b-7969337f7d05",
   "metadata": {},
   "outputs": [
    {
     "name": "stdout",
     "output_type": "stream",
     "text": [
      "0\n",
      "1\n",
      "2\n",
      "3\n",
      "4\n",
      "5\n",
      "6\n",
      "7\n",
      "8\n",
      "9\n",
      "apple\n",
      "banan\n",
      "fut\n"
     ]
    }
   ],
   "source": [
    "#######\n",
    "# for #\n",
    "#######\n",
    "\n",
    "# iterates over a sequence\n",
    "\n",
    "for i in range(10):\n",
    "    print(i)\n",
    "\n",
    "print()\n",
    "\n",
    "fruits = ['apple', 'banan', 'fut']\n",
    "for i in fruits:\n",
    "    print(i)"
   ]
  },
  {
   "cell_type": "code",
   "execution_count": 121,
   "id": "8c0e8dd4-51d6-401e-af21-86e04317ec05",
   "metadata": {},
   "outputs": [
    {
     "name": "stdout",
     "output_type": "stream",
     "text": [
      "\n",
      "Yo \n",
      "Yo Yo \n",
      "Yo Yo Yo \n",
      "Yo Yo Yo Yo \n",
      "Yo Yo Yo Yo Yo \n",
      "Yo Yo Yo Yo Yo Yo \n",
      "Yo Yo Yo Yo Yo Yo Yo \n",
      "Yo Yo Yo Yo Yo Yo Yo Yo \n",
      "Yo Yo Yo Yo Yo Yo Yo Yo Yo \n"
     ]
    }
   ],
   "source": [
    "#########\n",
    "# while #\n",
    "#########\n",
    "\n",
    "# iterates while a condition is True\n",
    "\n",
    "count = 0\n",
    "while count < 10:\n",
    "    print('Yo ' * count)\n",
    "    count += 1"
   ]
  },
  {
   "cell_type": "markdown",
   "id": "1f529592-bf24-48a4-9a69-1c7343ab1ae9",
   "metadata": {},
   "source": [
    "# If else conditionals"
   ]
  },
  {
   "cell_type": "code",
   "execution_count": 122,
   "id": "17ae0af9-95fe-4d3a-a1b1-e785134375a0",
   "metadata": {},
   "outputs": [
    {
     "name": "stdout",
     "output_type": "stream",
     "text": [
      "Amber Heard\n"
     ]
    }
   ],
   "source": [
    "cond = 'poop'\n",
    "\n",
    "if cond == 'pee':\n",
    "    print('R Kelly')\n",
    "elif cond == 'poop':\n",
    "    print('Amber Heard')\n",
    "else:\n",
    "    print('Oh naur')"
   ]
  },
  {
   "cell_type": "markdown",
   "id": "f07af373-ece5-4d92-9724-04e85171f5c9",
   "metadata": {},
   "source": [
    "# Function"
   ]
  },
  {
   "cell_type": "code",
   "execution_count": 127,
   "id": "93f1928b-23bd-4c14-960e-1b5639424a85",
   "metadata": {},
   "outputs": [
    {
     "name": "stdin",
     "output_type": "stream",
     "text": [
      "What did you say?:  ligma balls\n"
     ]
    },
    {
     "data": {
      "text/plain": [
       "'ligma balls'"
      ]
     },
     "execution_count": 127,
     "metadata": {},
     "output_type": "execute_result"
    }
   ],
   "source": [
    "# issa function, idk how else to say it\n",
    "# tool/command that does something\n",
    "# mini-program/executable within the code (?)\n",
    "\n",
    "import random \n",
    "\n",
    "def no_u():\n",
    "    words = input('What did you say?: ')\n",
    "    return(words)\n",
    "\n",
    "no_u()"
   ]
  },
  {
   "cell_type": "markdown",
   "id": "88114602-2044-4f7d-844a-51db11f2e05b",
   "metadata": {},
   "source": [
    "# Class"
   ]
  },
  {
   "cell_type": "code",
   "execution_count": 117,
   "id": "a5156dda-c0a3-47c6-a653-07492dc2e935",
   "metadata": {},
   "outputs": [
    {
     "name": "stdout",
     "output_type": "stream",
     "text": [
      "<__main__.Class1 object at 0x000001D845AD0A50>\n",
      "5\n"
     ]
    }
   ],
   "source": [
    "# A class is an object constructor for creating objects\n",
    "\n",
    "class Class1:\n",
    "    x = 5\n",
    "\n",
    "p1 = Class1()\n",
    "print(p1)\n",
    "print(p1.x)"
   ]
  },
  {
   "cell_type": "code",
   "execution_count": 118,
   "id": "07d17d9c-efc8-490b-a40d-d7f348851c3d",
   "metadata": {},
   "outputs": [
    {
     "name": "stdout",
     "output_type": "stream",
     "text": [
      "<__main__.Person object at 0x000001D845A57010>\n",
      "John\n",
      "36\n"
     ]
    }
   ],
   "source": [
    "# __init__() function\n",
    "\n",
    "# Always executed when the class is being initiated\n",
    "# Assigns values to object properties or other operations that are necessary when object is being created\n",
    "\n",
    "class Person:\n",
    "    def __init__(self, name, age):\n",
    "        self.name = name\n",
    "        self.age = age\n",
    "\n",
    "p1 = Person('John', 36)\n",
    "\n",
    "print(p1)\n",
    "print(p1.name)\n",
    "print(p1.age)"
   ]
  },
  {
   "cell_type": "code",
   "execution_count": 128,
   "id": "eb1da852-6146-4362-9865-5e1ab1cb8041",
   "metadata": {},
   "outputs": [
    {
     "name": "stdout",
     "output_type": "stream",
     "text": [
      "<__main__.Person1 object at 0x000001D845E18910>\n",
      "Evil John(35)\n"
     ]
    }
   ],
   "source": [
    "# __str()__ function\n",
    "\n",
    "# Controls what should be returned when the class object is represented as a string\n",
    "\n",
    "class Person1:\n",
    "    def __init__(self, name, age):\n",
    "        self.name = name\n",
    "        self.age = age\n",
    "\n",
    "p1 = Person1('John', 36)\n",
    "\n",
    "class Person2:\n",
    "    def __init__(self, name, age):\n",
    "        self.name = name\n",
    "        self.age = age\n",
    "\n",
    "    def __str__(self):\n",
    "        return(f'{self.name}({self.age})')\n",
    "\n",
    "p2 = Person2('Evil John', 35)\n",
    "\n",
    "print(p1)\n",
    "print(p2)"
   ]
  },
  {
   "cell_type": "code",
   "execution_count": 129,
   "id": "ba660c46-2d1d-4675-8742-090136244d03",
   "metadata": {},
   "outputs": [
    {
     "name": "stdout",
     "output_type": "stream",
     "text": [
      "Hello my name is John\n"
     ]
    }
   ],
   "source": [
    "# self parameter\n",
    "\n",
    "# A reference to the current instance of hte class\n",
    "# Used to access variables that belong to the class --> self.name = Person.name\n",
    "# Does not need to be named self, but like keep your variable names functional\n",
    "\n",
    "class Person:\n",
    "  def __init__(mysillyobject, name, age):\n",
    "    mysillyobject.name = name\n",
    "    mysillyobject.age = age\n",
    "\n",
    "  def myfunc(abc):\n",
    "    print(\"Hello my name is \" + abc.name)\n",
    "\n",
    "p1 = Person(\"John\", 36)\n",
    "p1.myfunc()"
   ]
  },
  {
   "cell_type": "code",
   "execution_count": 138,
   "id": "ae9d4669-647a-4254-94eb-ba269652965e",
   "metadata": {},
   "outputs": [
    {
     "name": "stdout",
     "output_type": "stream",
     "text": [
      "36\n",
      "40\n",
      "\n",
      "40\n",
      "What you want, we ain't got\n",
      "\n",
      "We ran outta stock\n",
      "<class '__main__.empty_person'>\n"
     ]
    }
   ],
   "source": [
    "####################\n",
    "# Class operations #\n",
    "####################\n",
    "\n",
    "class Person:\n",
    "    def __init__(self, name, age):\n",
    "        self.name = name\n",
    "        self.age = age\n",
    "\n",
    "    def myfunc(abc):\n",
    "        print(\"Hello my name is \" + abc.name)\n",
    "\n",
    "p1 = Person('John', 36)\n",
    "\n",
    "# Modifying object properties\n",
    "print(p1.age)\n",
    "p1.age = 40\n",
    "print(p1.age)\n",
    "\n",
    "# Deleting object properties --> del class.object\n",
    "print(f'\\n{p1.age}')\n",
    "del p1.age\n",
    "try:\n",
    "    print(p1.age)\n",
    "except:\n",
    "    print(\"What you want, we ain't got\")\n",
    "\n",
    "## Can also delete whole objects --> del p1\n",
    "del p1\n",
    "try:\n",
    "    print(p1)\n",
    "except:\n",
    "    print(\"\\nWe ran outta stock\")\n",
    "\n",
    "# pass statement\n",
    "#  class definitions cannot be empty, but if you have an empty class, can put in pass to avoid getting an error\n",
    "\n",
    "class empty_person:\n",
    "    pass\n",
    "\n",
    "print(empty_person)"
   ]
  },
  {
   "cell_type": "code",
   "execution_count": null,
   "id": "77f8241d-56d7-46ec-86e8-5a5bb656a081",
   "metadata": {},
   "outputs": [],
   "source": []
  }
 ],
 "metadata": {
  "kernelspec": {
   "display_name": "Python 3 (ipykernel)",
   "language": "python",
   "name": "python3"
  },
  "language_info": {
   "codemirror_mode": {
    "name": "ipython",
    "version": 3
   },
   "file_extension": ".py",
   "mimetype": "text/x-python",
   "name": "python",
   "nbconvert_exporter": "python",
   "pygments_lexer": "ipython3",
   "version": "3.11.7"
  }
 },
 "nbformat": 4,
 "nbformat_minor": 5
}
